{
 "cells": [
  {
   "cell_type": "code",
   "execution_count": 3,
   "metadata": {},
   "outputs": [],
   "source": [
    "import json\n",
    "import random"
   ]
  },
  {
   "cell_type": "code",
   "execution_count": 4,
   "metadata": {},
   "outputs": [],
   "source": [
    "prod={}\n",
    "z=95001\n"
   ]
  },
  {
   "cell_type": "code",
   "execution_count": null,
   "metadata": {},
   "outputs": [],
   "source": []
  },
  {
   "cell_type": "code",
   "execution_count": 5,
   "metadata": {},
   "outputs": [
    {
     "data": {
      "text/plain": [
       "{95001: {'name': None, 'price': 207, 'remaining': 83},\n",
       " 95002: {'name': None, 'price': 293, 'remaining': 68},\n",
       " 95003: {'name': None, 'price': 176, 'remaining': 65},\n",
       " 95004: {'name': None, 'price': 296, 'remaining': 119},\n",
       " 95005: {'name': None, 'price': 239, 'remaining': 96},\n",
       " 95006: {'name': None, 'price': 143, 'remaining': 96},\n",
       " 95007: {'name': None, 'price': 341, 'remaining': 83},\n",
       " 95008: {'name': None, 'price': 289, 'remaining': 97},\n",
       " 95009: {'name': None, 'price': 198, 'remaining': 106},\n",
       " 95010: {'name': None, 'price': 240, 'remaining': 100},\n",
       " 95011: {'name': None, 'price': 148, 'remaining': 95},\n",
       " 95012: {'name': None, 'price': 163, 'remaining': 117},\n",
       " 95013: {'name': None, 'price': 173, 'remaining': 65},\n",
       " 95014: {'name': None, 'price': 200, 'remaining': 59},\n",
       " 95015: {'name': None, 'price': 171, 'remaining': 129},\n",
       " 95016: {'name': None, 'price': 302, 'remaining': 102},\n",
       " 95017: {'name': None, 'price': 325, 'remaining': 90},\n",
       " 95018: {'name': None, 'price': 330, 'remaining': 59},\n",
       " 95019: {'name': None, 'price': 194, 'remaining': 92},\n",
       " 95020: {'name': None, 'price': 125, 'remaining': 78},\n",
       " 95021: {'name': None, 'price': 324, 'remaining': 53},\n",
       " 95022: {'name': None, 'price': 312, 'remaining': 106},\n",
       " 95023: {'name': None, 'price': 319, 'remaining': 45},\n",
       " 95024: {'name': None, 'price': 299, 'remaining': 65},\n",
       " 95025: {'name': None, 'price': 129, 'remaining': 87},\n",
       " 95026: {'name': None, 'price': 262, 'remaining': 81},\n",
       " 95027: {'name': None, 'price': 174, 'remaining': 87},\n",
       " 95028: {'name': None, 'price': 277, 'remaining': 122},\n",
       " 95029: {'name': None, 'price': 180, 'remaining': 115},\n",
       " 95030: {'name': None, 'price': 191, 'remaining': 47},\n",
       " 95031: {'name': None, 'price': 211, 'remaining': 136},\n",
       " 95032: {'name': None, 'price': 235, 'remaining': 94},\n",
       " 95033: {'name': None, 'price': 248, 'remaining': 127},\n",
       " 95034: {'name': None, 'price': 108, 'remaining': 123},\n",
       " 95035: {'name': None, 'price': 337, 'remaining': 59},\n",
       " 95036: {'name': None, 'price': 242, 'remaining': 85},\n",
       " 95037: {'name': None, 'price': 288, 'remaining': 127},\n",
       " 95038: {'name': None, 'price': 308, 'remaining': 61},\n",
       " 95039: {'name': None, 'price': 343, 'remaining': 77},\n",
       " 95040: {'name': None, 'price': 213, 'remaining': 67},\n",
       " 95041: {'name': None, 'price': 150, 'remaining': 90},\n",
       " 95042: {'name': None, 'price': 118, 'remaining': 62},\n",
       " 95043: {'name': None, 'price': 257, 'remaining': 116},\n",
       " 95044: {'name': None, 'price': 191, 'remaining': 41},\n",
       " 95045: {'name': None, 'price': 105, 'remaining': 46},\n",
       " 95046: {'name': None, 'price': 308, 'remaining': 76},\n",
       " 95047: {'name': None, 'price': 234, 'remaining': 53},\n",
       " 95048: {'name': None, 'price': 298, 'remaining': 130},\n",
       " 95049: {'name': None, 'price': 192, 'remaining': 122},\n",
       " 95050: {'name': None, 'price': 266, 'remaining': 44}}"
      ]
     },
     "execution_count": 5,
     "metadata": {},
     "output_type": "execute_result"
    }
   ],
   "source": [
    "for i in range(50):\n",
    "    prod[z]={\"name\":None,\"price\":random.randint(100,350),\"remaining\":random.randint(40,150)}\n",
    "    z+=1\n",
    "prod"
   ]
  },
  {
   "cell_type": "code",
   "execution_count": 6,
   "metadata": {},
   "outputs": [
    {
     "data": {
      "text/plain": [
       "{95001: {'name': None, 'price': 207, 'remaining': 83},\n",
       " 95002: {'name': None, 'price': 293, 'remaining': 68},\n",
       " 95003: {'name': None, 'price': 176, 'remaining': 65},\n",
       " 95004: {'name': None, 'price': 296, 'remaining': 119},\n",
       " 95005: {'name': None, 'price': 239, 'remaining': 96},\n",
       " 95006: {'name': None, 'price': 143, 'remaining': 96},\n",
       " 95007: {'name': None, 'price': 341, 'remaining': 83},\n",
       " 95008: {'name': None, 'price': 289, 'remaining': 97},\n",
       " 95009: {'name': None, 'price': 198, 'remaining': 106},\n",
       " 95010: {'name': None, 'price': 240, 'remaining': 100},\n",
       " 95011: {'name': None, 'price': 148, 'remaining': 95},\n",
       " 95012: {'name': None, 'price': 163, 'remaining': 117},\n",
       " 95013: {'name': None, 'price': 173, 'remaining': 65},\n",
       " 95014: {'name': None, 'price': 200, 'remaining': 59},\n",
       " 95015: {'name': None, 'price': 171, 'remaining': 129},\n",
       " 95016: {'name': None, 'price': 302, 'remaining': 102},\n",
       " 95017: {'name': None, 'price': 325, 'remaining': 90},\n",
       " 95018: {'name': None, 'price': 330, 'remaining': 59},\n",
       " 95019: {'name': None, 'price': 194, 'remaining': 92},\n",
       " 95020: {'name': None, 'price': 125, 'remaining': 78},\n",
       " 95021: {'name': None, 'price': 324, 'remaining': 53},\n",
       " 95022: {'name': None, 'price': 312, 'remaining': 106},\n",
       " 95023: {'name': None, 'price': 319, 'remaining': 45},\n",
       " 95024: {'name': None, 'price': 299, 'remaining': 65},\n",
       " 95025: {'name': None, 'price': 129, 'remaining': 87},\n",
       " 95026: {'name': None, 'price': 262, 'remaining': 81},\n",
       " 95027: {'name': None, 'price': 174, 'remaining': 87},\n",
       " 95028: {'name': None, 'price': 277, 'remaining': 122},\n",
       " 95029: {'name': None, 'price': 180, 'remaining': 115},\n",
       " 95030: {'name': None, 'price': 191, 'remaining': 47},\n",
       " 95031: {'name': None, 'price': 211, 'remaining': 136},\n",
       " 95032: {'name': None, 'price': 235, 'remaining': 94},\n",
       " 95033: {'name': None, 'price': 248, 'remaining': 127},\n",
       " 95034: {'name': None, 'price': 108, 'remaining': 123},\n",
       " 95035: {'name': None, 'price': 337, 'remaining': 59},\n",
       " 95036: {'name': None, 'price': 242, 'remaining': 85},\n",
       " 95037: {'name': None, 'price': 288, 'remaining': 127},\n",
       " 95038: {'name': None, 'price': 308, 'remaining': 61},\n",
       " 95039: {'name': None, 'price': 343, 'remaining': 77},\n",
       " 95040: {'name': None, 'price': 213, 'remaining': 67},\n",
       " 95041: {'name': None, 'price': 150, 'remaining': 90},\n",
       " 95042: {'name': None, 'price': 118, 'remaining': 62},\n",
       " 95043: {'name': None, 'price': 257, 'remaining': 116},\n",
       " 95044: {'name': None, 'price': 191, 'remaining': 41},\n",
       " 95045: {'name': None, 'price': 105, 'remaining': 46},\n",
       " 95046: {'name': None, 'price': 308, 'remaining': 76},\n",
       " 95047: {'name': None, 'price': 234, 'remaining': 53},\n",
       " 95048: {'name': None, 'price': 298, 'remaining': 130},\n",
       " 95049: {'name': None, 'price': 192, 'remaining': 122},\n",
       " 95050: {'name': None, 'price': 266, 'remaining': 44}}"
      ]
     },
     "execution_count": 6,
     "metadata": {},
     "output_type": "execute_result"
    }
   ],
   "source": [
    "prod\n"
   ]
  },
  {
   "cell_type": "code",
   "execution_count": null,
   "metadata": {},
   "outputs": [],
   "source": []
  },
  {
   "cell_type": "code",
   "execution_count": 7,
   "metadata": {},
   "outputs": [
    {
     "data": {
      "text/plain": [
       "'{\"95001\": {\"name\": null, \"price\": 207, \"remaining\": 83}, \"95002\": {\"name\": null, \"price\": 293, \"remaining\": 68}, \"95003\": {\"name\": null, \"price\": 176, \"remaining\": 65}, \"95004\": {\"name\": null, \"price\": 296, \"remaining\": 119}, \"95005\": {\"name\": null, \"price\": 239, \"remaining\": 96}, \"95006\": {\"name\": null, \"price\": 143, \"remaining\": 96}, \"95007\": {\"name\": null, \"price\": 341, \"remaining\": 83}, \"95008\": {\"name\": null, \"price\": 289, \"remaining\": 97}, \"95009\": {\"name\": null, \"price\": 198, \"remaining\": 106}, \"95010\": {\"name\": null, \"price\": 240, \"remaining\": 100}, \"95011\": {\"name\": null, \"price\": 148, \"remaining\": 95}, \"95012\": {\"name\": null, \"price\": 163, \"remaining\": 117}, \"95013\": {\"name\": null, \"price\": 173, \"remaining\": 65}, \"95014\": {\"name\": null, \"price\": 200, \"remaining\": 59}, \"95015\": {\"name\": null, \"price\": 171, \"remaining\": 129}, \"95016\": {\"name\": null, \"price\": 302, \"remaining\": 102}, \"95017\": {\"name\": null, \"price\": 325, \"remaining\": 90}, \"95018\": {\"name\": null, \"price\": 330, \"remaining\": 59}, \"95019\": {\"name\": null, \"price\": 194, \"remaining\": 92}, \"95020\": {\"name\": null, \"price\": 125, \"remaining\": 78}, \"95021\": {\"name\": null, \"price\": 324, \"remaining\": 53}, \"95022\": {\"name\": null, \"price\": 312, \"remaining\": 106}, \"95023\": {\"name\": null, \"price\": 319, \"remaining\": 45}, \"95024\": {\"name\": null, \"price\": 299, \"remaining\": 65}, \"95025\": {\"name\": null, \"price\": 129, \"remaining\": 87}, \"95026\": {\"name\": null, \"price\": 262, \"remaining\": 81}, \"95027\": {\"name\": null, \"price\": 174, \"remaining\": 87}, \"95028\": {\"name\": null, \"price\": 277, \"remaining\": 122}, \"95029\": {\"name\": null, \"price\": 180, \"remaining\": 115}, \"95030\": {\"name\": null, \"price\": 191, \"remaining\": 47}, \"95031\": {\"name\": null, \"price\": 211, \"remaining\": 136}, \"95032\": {\"name\": null, \"price\": 235, \"remaining\": 94}, \"95033\": {\"name\": null, \"price\": 248, \"remaining\": 127}, \"95034\": {\"name\": null, \"price\": 108, \"remaining\": 123}, \"95035\": {\"name\": null, \"price\": 337, \"remaining\": 59}, \"95036\": {\"name\": null, \"price\": 242, \"remaining\": 85}, \"95037\": {\"name\": null, \"price\": 288, \"remaining\": 127}, \"95038\": {\"name\": null, \"price\": 308, \"remaining\": 61}, \"95039\": {\"name\": null, \"price\": 343, \"remaining\": 77}, \"95040\": {\"name\": null, \"price\": 213, \"remaining\": 67}, \"95041\": {\"name\": null, \"price\": 150, \"remaining\": 90}, \"95042\": {\"name\": null, \"price\": 118, \"remaining\": 62}, \"95043\": {\"name\": null, \"price\": 257, \"remaining\": 116}, \"95044\": {\"name\": null, \"price\": 191, \"remaining\": 41}, \"95045\": {\"name\": null, \"price\": 105, \"remaining\": 46}, \"95046\": {\"name\": null, \"price\": 308, \"remaining\": 76}, \"95047\": {\"name\": null, \"price\": 234, \"remaining\": 53}, \"95048\": {\"name\": null, \"price\": 298, \"remaining\": 130}, \"95049\": {\"name\": null, \"price\": 192, \"remaining\": 122}, \"95050\": {\"name\": null, \"price\": 266, \"remaining\": 44}}'"
      ]
     },
     "execution_count": 7,
     "metadata": {},
     "output_type": "execute_result"
    }
   ],
   "source": [
    "fd=open('product.json','w')\n",
    "data=json.dumps(prod)\n",
    "fd.write(data)\n",
    "fd.close\n",
    "data"
   ]
  },
  {
   "cell_type": "code",
   "execution_count": 8,
   "metadata": {},
   "outputs": [],
   "source": [
    "p=json.loads(data)"
   ]
  },
  {
   "cell_type": "code",
   "execution_count": 9,
   "metadata": {},
   "outputs": [
    {
     "data": {
      "text/plain": [
       "{'name': None, 'price': 207, 'remaining': 83}"
      ]
     },
     "execution_count": 9,
     "metadata": {},
     "output_type": "execute_result"
    }
   ],
   "source": [
    "p[\"95001\"]"
   ]
  },
  {
   "cell_type": "code",
   "execution_count": 10,
   "metadata": {},
   "outputs": [
    {
     "data": {
      "text/plain": [
       "<function TextIOWrapper.close()>"
      ]
     },
     "execution_count": 10,
     "metadata": {},
     "output_type": "execute_result"
    }
   ],
   "source": [
    "fp=open('product.json','r')\n",
    "product=fp.read()\n",
    "pp=json.loads(data)\n",
    "fp.close\n"
   ]
  },
  {
   "cell_type": "code",
   "execution_count": 11,
   "metadata": {},
   "outputs": [],
   "source": [
    "pp[str(int('95001')+1)]['name']='avodo'"
   ]
  },
  {
   "cell_type": "code",
   "execution_count": 12,
   "metadata": {},
   "outputs": [
    {
     "data": {
      "text/plain": [
       "{'95001': {'name': None, 'price': 207, 'remaining': 83},\n",
       " '95002': {'name': 'avodo', 'price': 293, 'remaining': 68},\n",
       " '95003': {'name': None, 'price': 176, 'remaining': 65},\n",
       " '95004': {'name': None, 'price': 296, 'remaining': 119},\n",
       " '95005': {'name': None, 'price': 239, 'remaining': 96},\n",
       " '95006': {'name': None, 'price': 143, 'remaining': 96},\n",
       " '95007': {'name': None, 'price': 341, 'remaining': 83},\n",
       " '95008': {'name': None, 'price': 289, 'remaining': 97},\n",
       " '95009': {'name': None, 'price': 198, 'remaining': 106},\n",
       " '95010': {'name': None, 'price': 240, 'remaining': 100},\n",
       " '95011': {'name': None, 'price': 148, 'remaining': 95},\n",
       " '95012': {'name': None, 'price': 163, 'remaining': 117},\n",
       " '95013': {'name': None, 'price': 173, 'remaining': 65},\n",
       " '95014': {'name': None, 'price': 200, 'remaining': 59},\n",
       " '95015': {'name': None, 'price': 171, 'remaining': 129},\n",
       " '95016': {'name': None, 'price': 302, 'remaining': 102},\n",
       " '95017': {'name': None, 'price': 325, 'remaining': 90},\n",
       " '95018': {'name': None, 'price': 330, 'remaining': 59},\n",
       " '95019': {'name': None, 'price': 194, 'remaining': 92},\n",
       " '95020': {'name': None, 'price': 125, 'remaining': 78},\n",
       " '95021': {'name': None, 'price': 324, 'remaining': 53},\n",
       " '95022': {'name': None, 'price': 312, 'remaining': 106},\n",
       " '95023': {'name': None, 'price': 319, 'remaining': 45},\n",
       " '95024': {'name': None, 'price': 299, 'remaining': 65},\n",
       " '95025': {'name': None, 'price': 129, 'remaining': 87},\n",
       " '95026': {'name': None, 'price': 262, 'remaining': 81},\n",
       " '95027': {'name': None, 'price': 174, 'remaining': 87},\n",
       " '95028': {'name': None, 'price': 277, 'remaining': 122},\n",
       " '95029': {'name': None, 'price': 180, 'remaining': 115},\n",
       " '95030': {'name': None, 'price': 191, 'remaining': 47},\n",
       " '95031': {'name': None, 'price': 211, 'remaining': 136},\n",
       " '95032': {'name': None, 'price': 235, 'remaining': 94},\n",
       " '95033': {'name': None, 'price': 248, 'remaining': 127},\n",
       " '95034': {'name': None, 'price': 108, 'remaining': 123},\n",
       " '95035': {'name': None, 'price': 337, 'remaining': 59},\n",
       " '95036': {'name': None, 'price': 242, 'remaining': 85},\n",
       " '95037': {'name': None, 'price': 288, 'remaining': 127},\n",
       " '95038': {'name': None, 'price': 308, 'remaining': 61},\n",
       " '95039': {'name': None, 'price': 343, 'remaining': 77},\n",
       " '95040': {'name': None, 'price': 213, 'remaining': 67},\n",
       " '95041': {'name': None, 'price': 150, 'remaining': 90},\n",
       " '95042': {'name': None, 'price': 118, 'remaining': 62},\n",
       " '95043': {'name': None, 'price': 257, 'remaining': 116},\n",
       " '95044': {'name': None, 'price': 191, 'remaining': 41},\n",
       " '95045': {'name': None, 'price': 105, 'remaining': 46},\n",
       " '95046': {'name': None, 'price': 308, 'remaining': 76},\n",
       " '95047': {'name': None, 'price': 234, 'remaining': 53},\n",
       " '95048': {'name': None, 'price': 298, 'remaining': 130},\n",
       " '95049': {'name': None, 'price': 192, 'remaining': 122},\n",
       " '95050': {'name': None, 'price': 266, 'remaining': 44}}"
      ]
     },
     "execution_count": 12,
     "metadata": {},
     "output_type": "execute_result"
    }
   ],
   "source": [
    "pp"
   ]
  },
  {
   "cell_type": "code",
   "execution_count": 13,
   "metadata": {},
   "outputs": [],
   "source": [
    "i=1\n",
    "lst=['avocado','berries','biscuits','chocos','cornflakes','dorritos','dettol','']"
   ]
  },
  {
   "cell_type": "code",
   "execution_count": 14,
   "metadata": {},
   "outputs": [],
   "source": [
    "ff=open('names.txt','r')\n",
    "names=ff.read()\n",
    "ll=names.split(\"\\n\")"
   ]
  },
  {
   "cell_type": "code",
   "execution_count": 15,
   "metadata": {},
   "outputs": [
    {
     "data": {
      "text/plain": [
       "'Red-wine vinegar'"
      ]
     },
     "execution_count": 15,
     "metadata": {},
     "output_type": "execute_result"
    }
   ],
   "source": [
    "ll[8]"
   ]
  },
  {
   "cell_type": "code",
   "execution_count": 16,
   "metadata": {},
   "outputs": [],
   "source": [
    "x=pp.keys()\n",
    "    \n",
    "pp['95001']['name']"
   ]
  },
  {
   "cell_type": "code",
   "execution_count": 17,
   "metadata": {},
   "outputs": [
    {
     "data": {
      "text/plain": [
       "['Nuts',\n",
       " 'Quick Oats',\n",
       " 'Popcorn',\n",
       " 'Tortilla Chips',\n",
       " 'Cereal',\n",
       " 'Tomato sauce',\n",
       " 'Mustard',\n",
       " 'Barbecue sauce',\n",
       " 'Red-wine vinegar',\n",
       " 'Salsa',\n",
       " 'Breadcrumbs',\n",
       " 'Pasta',\n",
       " 'Quinoa',\n",
       " 'Rice',\n",
       " 'Wheat Bread',\n",
       " 'Flour Tortillas',\n",
       " 'Butter',\n",
       " 'Sliced Cheese',\n",
       " 'Shredded Cheese',\n",
       " 'Milk',\n",
       " 'Sour Cream',\n",
       " 'Greek Yogurt',\n",
       " 'Chicken stock/broth',\n",
       " 'Salsa',\n",
       " 'Diced Tomatoes',\n",
       " 'Jam/Jelly',\n",
       " 'Peanut Butter',\n",
       " 'Pasta Sauce',\n",
       " 'Black Beans',\n",
       " 'Soups',\n",
       " 'Tuna',\n",
       " 'Green Chiles',\n",
       " 'Berries',\n",
       " 'Corn',\n",
       " 'Broccoli',\n",
       " 'Juice Concentrate',\n",
       " 'Pizza',\n",
       " 'Pie Crust',\n",
       " 'Cookie Dough',\n",
       " 'Baking powder',\n",
       " 'Baking Soda',\n",
       " 'Sugar',\n",
       " 'Brown Sugar',\n",
       " 'Flour',\n",
       " 'Honey',\n",
       " 'Vanilla',\n",
       " 'Dry Yeast',\n",
       " 'Chocolate Chips',\n",
       " 'Cocoa Powder',\n",
       " 'Powdered Sugar']"
      ]
     },
     "execution_count": 17,
     "metadata": {},
     "output_type": "execute_result"
    }
   ],
   "source": [
    "ll"
   ]
  },
  {
   "cell_type": "code",
   "execution_count": 18,
   "metadata": {},
   "outputs": [],
   "source": [
    "i=0\n",
    "for key in pp:\n",
    "    \n",
    "    pp[key][\"name\"]=ll[i]\n",
    "    i=i+1"
   ]
  },
  {
   "cell_type": "code",
   "execution_count": 19,
   "metadata": {},
   "outputs": [
    {
     "data": {
      "text/plain": [
       "{'name': 'Red-wine vinegar', 'price': 198, 'remaining': 106}"
      ]
     },
     "execution_count": 19,
     "metadata": {},
     "output_type": "execute_result"
    }
   ],
   "source": [
    "pp['95009']"
   ]
  },
  {
   "cell_type": "code",
   "execution_count": 20,
   "metadata": {},
   "outputs": [
    {
     "data": {
      "text/plain": [
       "{'95001': {'name': 'Nuts', 'price': 207, 'remaining': 83},\n",
       " '95002': {'name': 'Quick Oats', 'price': 293, 'remaining': 68},\n",
       " '95003': {'name': 'Popcorn', 'price': 176, 'remaining': 65},\n",
       " '95004': {'name': 'Tortilla Chips', 'price': 296, 'remaining': 119},\n",
       " '95005': {'name': 'Cereal', 'price': 239, 'remaining': 96},\n",
       " '95006': {'name': 'Tomato sauce', 'price': 143, 'remaining': 96},\n",
       " '95007': {'name': 'Mustard', 'price': 341, 'remaining': 83},\n",
       " '95008': {'name': 'Barbecue sauce', 'price': 289, 'remaining': 97},\n",
       " '95009': {'name': 'Red-wine vinegar', 'price': 198, 'remaining': 106},\n",
       " '95010': {'name': 'Salsa', 'price': 240, 'remaining': 100},\n",
       " '95011': {'name': 'Breadcrumbs', 'price': 148, 'remaining': 95},\n",
       " '95012': {'name': 'Pasta', 'price': 163, 'remaining': 117},\n",
       " '95013': {'name': 'Quinoa', 'price': 173, 'remaining': 65},\n",
       " '95014': {'name': 'Rice', 'price': 200, 'remaining': 59},\n",
       " '95015': {'name': 'Wheat Bread', 'price': 171, 'remaining': 129},\n",
       " '95016': {'name': 'Flour Tortillas', 'price': 302, 'remaining': 102},\n",
       " '95017': {'name': 'Butter', 'price': 325, 'remaining': 90},\n",
       " '95018': {'name': 'Sliced Cheese', 'price': 330, 'remaining': 59},\n",
       " '95019': {'name': 'Shredded Cheese', 'price': 194, 'remaining': 92},\n",
       " '95020': {'name': 'Milk', 'price': 125, 'remaining': 78},\n",
       " '95021': {'name': 'Sour Cream', 'price': 324, 'remaining': 53},\n",
       " '95022': {'name': 'Greek Yogurt', 'price': 312, 'remaining': 106},\n",
       " '95023': {'name': 'Chicken stock/broth', 'price': 319, 'remaining': 45},\n",
       " '95024': {'name': 'Salsa', 'price': 299, 'remaining': 65},\n",
       " '95025': {'name': 'Diced Tomatoes', 'price': 129, 'remaining': 87},\n",
       " '95026': {'name': 'Jam/Jelly', 'price': 262, 'remaining': 81},\n",
       " '95027': {'name': 'Peanut Butter', 'price': 174, 'remaining': 87},\n",
       " '95028': {'name': 'Pasta Sauce', 'price': 277, 'remaining': 122},\n",
       " '95029': {'name': 'Black Beans', 'price': 180, 'remaining': 115},\n",
       " '95030': {'name': 'Soups', 'price': 191, 'remaining': 47},\n",
       " '95031': {'name': 'Tuna', 'price': 211, 'remaining': 136},\n",
       " '95032': {'name': 'Green Chiles', 'price': 235, 'remaining': 94},\n",
       " '95033': {'name': 'Berries', 'price': 248, 'remaining': 127},\n",
       " '95034': {'name': 'Corn', 'price': 108, 'remaining': 123},\n",
       " '95035': {'name': 'Broccoli', 'price': 337, 'remaining': 59},\n",
       " '95036': {'name': 'Juice Concentrate', 'price': 242, 'remaining': 85},\n",
       " '95037': {'name': 'Pizza', 'price': 288, 'remaining': 127},\n",
       " '95038': {'name': 'Pie Crust', 'price': 308, 'remaining': 61},\n",
       " '95039': {'name': 'Cookie Dough', 'price': 343, 'remaining': 77},\n",
       " '95040': {'name': 'Baking powder', 'price': 213, 'remaining': 67},\n",
       " '95041': {'name': 'Baking Soda', 'price': 150, 'remaining': 90},\n",
       " '95042': {'name': 'Sugar', 'price': 118, 'remaining': 62},\n",
       " '95043': {'name': 'Brown Sugar', 'price': 257, 'remaining': 116},\n",
       " '95044': {'name': 'Flour', 'price': 191, 'remaining': 41},\n",
       " '95045': {'name': 'Honey', 'price': 105, 'remaining': 46},\n",
       " '95046': {'name': 'Vanilla', 'price': 308, 'remaining': 76},\n",
       " '95047': {'name': 'Dry Yeast', 'price': 234, 'remaining': 53},\n",
       " '95048': {'name': 'Chocolate Chips', 'price': 298, 'remaining': 130},\n",
       " '95049': {'name': 'Cocoa Powder', 'price': 192, 'remaining': 122},\n",
       " '95050': {'name': 'Powdered Sugar', 'price': 266, 'remaining': 44}}"
      ]
     },
     "execution_count": 20,
     "metadata": {},
     "output_type": "execute_result"
    }
   ],
   "source": [
    "pp"
   ]
  },
  {
   "cell_type": "code",
   "execution_count": 21,
   "metadata": {},
   "outputs": [],
   "source": [
    "fd=open('product.json','w')\n",
    "pf=json.dumps(pp)\n",
    "fd.write(pf)\n",
    "fd.close()"
   ]
  },
  {
   "cell_type": "code",
   "execution_count": 24,
   "metadata": {},
   "outputs": [
    {
     "data": {
      "text/plain": [
       "'{'"
      ]
     },
     "execution_count": 24,
     "metadata": {},
     "output_type": "execute_result"
    }
   ],
   "source": [
    "pf[0]"
   ]
  },
  {
   "cell_type": "code",
   "execution_count": null,
   "metadata": {},
   "outputs": [],
   "source": []
  }
 ],
 "metadata": {
  "kernelspec": {
   "display_name": "Python 3",
   "language": "python",
   "name": "python3"
  },
  "language_info": {
   "codemirror_mode": {
    "name": "ipython",
    "version": 3
   },
   "file_extension": ".py",
   "mimetype": "text/x-python",
   "name": "python",
   "nbconvert_exporter": "python",
   "pygments_lexer": "ipython3",
   "version": "3.8.5"
  }
 },
 "nbformat": 4,
 "nbformat_minor": 4
}

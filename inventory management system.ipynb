{
 "cells": [
  {
   "cell_type": "code",
   "execution_count": 53,
   "metadata": {},
   "outputs": [],
   "source": [
    "import json\n",
    "import random as rd\n",
    "import time"
   ]
  },
  {
   "cell_type": "code",
   "execution_count": 54,
   "metadata": {},
   "outputs": [],
   "source": [
    "fd=open('product.json','r')\n",
    "prod=fd.read()\n",
    "product=json.loads(prod)\n",
    "fd.close()\n"
   ]
  },
  {
   "cell_type": "code",
   "execution_count": 55,
   "metadata": {},
   "outputs": [],
   "source": [
    "fs=open('bills.json','r')\n",
    "a=fs.read()\n",
    "fs.close()\n"
   ]
  },
  {
   "cell_type": "code",
   "execution_count": 56,
   "metadata": {},
   "outputs": [],
   "source": [
    "discountcode=['applyme']"
   ]
  },
  {
   "cell_type": "code",
   "execution_count": 57,
   "metadata": {},
   "outputs": [],
   "source": [
    "def discount():\n",
    "    dc=input(\"enter the discount coupun u wan to prrovide \")\n",
    "    discountcode.append(dc)\n",
    "    return 0\n",
    "\n",
    "    \n",
    "        "
   ]
  },
  {
   "cell_type": "code",
   "execution_count": 58,
   "metadata": {},
   "outputs": [],
   "source": [
    "def update():\n",
    "    print(\"enter thr product id u want to update\")\n",
    "    u=str(input())\n",
    "    print()\n",
    "    print('for remove please add negetive sign in front')\n",
    "    v=(input(\"enter the quantity id u want to add/remove \"))\n",
    "    l=product[u][\"remaining\"]\n",
    "    print(l)\n",
    "    product[u][\"remaining\"]= int(l)+int(v)\n",
    "    print(\"updated quantity is\", product[u][\"remaining\"])\n",
    "    return 0\n",
    "\n",
    "    "
   ]
  },
  {
   "cell_type": "code",
   "execution_count": 59,
   "metadata": {},
   "outputs": [],
   "source": [
    "def remove():\n",
    "    g=str(input(\"enter the product id you want to remove\"))\n",
    "    del product[g]\n",
    "    return 0\n"
   ]
  },
  {
   "cell_type": "code",
   "execution_count": 60,
   "metadata": {},
   "outputs": [],
   "source": [
    "def add():\n",
    "    v=input('Enter the product id')\n",
    "    n=input('enter the name ')\n",
    "    t=input('enter the cost ')\n",
    "    z=input('enter the quantity ')\n",
    "    product[str(v)]={'name':n,'price':t,'remaining':z}\n",
    "    print(\"product updated\")\n",
    "    return 0\n"
   ]
  },
  {
   "cell_type": "code",
   "execution_count": 61,
   "metadata": {},
   "outputs": [],
   "source": [
    "def check():\n",
    "    \n",
    "     print (a)  "
   ]
  },
  {
   "cell_type": "code",
   "execution_count": 62,
   "metadata": {},
   "outputs": [
    {
     "name": "stdout",
     "output_type": "stream",
     "text": [
      "what do you want to do\n",
      "\n",
      "A=purchse \n",
      "B=If you are owner press B\n",
      " a\n"
     ]
    }
   ],
   "source": [
    "print(\"what do you want to do\")\n",
    "w=\"abhishek\"\n",
    "print(\"\\nA=purchse \")\n",
    "print(\"B=If you are owner press B\")\n",
    "y=input(\" \")\n",
    "if (y==\"b\" or y==\"B\"):\n",
    "    print(\"you wont be able to open if u are customer , dont try\")\n",
    "    print(\"enter your password \")\n",
    "    z=input()\n",
    "    if(z!=w):\n",
    "        print('please enter the valid pasword')\n",
    "    if z==w:\n",
    "        print(\"kya hukum mere aaka\")\n",
    "        print(\"M-update your stock\")\n",
    "        print(\"N-remove your stock\")\n",
    "        print(\"S-To add new product\")\n",
    "        print(\"c-check your bills\")\n",
    "        print(\"D-Add discount for your customers\")\n",
    "        \n",
    "        r=input()\n",
    "        if (r==\"m\" or r==\"M\"):\n",
    "            update()\n",
    "        if (r==\"n\" or r==\"N\"):\n",
    "            remove()\n",
    "        if(r==\"s\" or r==\"S\"):\n",
    "            add()\n",
    "        if(r==\"c\" or r==\"C\"):\n",
    "            check()\n",
    "        if(r==\"d\" or r==\"D\"):\n",
    "            discount()\n",
    "    "
   ]
  },
  {
   "cell_type": "code",
   "execution_count": 28,
   "metadata": {},
   "outputs": [
    {
     "name": "stdout",
     "output_type": "stream",
     "text": [
      "****************************************************\n",
      "here is your list of product \n",
      "Choose from it\n",
      "****************************************************\n",
      "95001 --> {'name': 'Nuts', 'price': 207, 'remaining': 80}\n",
      "95002 --> {'name': 'Quick Oats', 'price': 293, 'remaining': 66}\n",
      "95003 --> {'name': 'Popcorn', 'price': 176, 'remaining': 65}\n",
      "95004 --> {'name': 'Tortilla Chips', 'price': 296, 'remaining': 119}\n",
      "95005 --> {'name': 'Cereal', 'price': 239, 'remaining': 96}\n",
      "95006 --> {'name': 'Tomato sauce', 'price': 143, 'remaining': 96}\n",
      "95007 --> {'name': 'Mustard', 'price': 341, 'remaining': 83}\n",
      "95008 --> {'name': 'Barbecue sauce', 'price': 289, 'remaining': 97}\n",
      "95009 --> {'name': 'Red-wine vinegar', 'price': 198, 'remaining': 106}\n",
      "95010 --> {'name': 'Salsa', 'price': 240, 'remaining': 100}\n",
      "95011 --> {'name': 'Breadcrumbs', 'price': 148, 'remaining': 95}\n",
      "95012 --> {'name': 'Pasta', 'price': 163, 'remaining': 117}\n",
      "95013 --> {'name': 'Quinoa', 'price': 173, 'remaining': 65}\n",
      "95014 --> {'name': 'Rice', 'price': 200, 'remaining': 59}\n",
      "95015 --> {'name': 'Wheat Bread', 'price': 171, 'remaining': 129}\n",
      "95016 --> {'name': 'Flour Tortillas', 'price': 302, 'remaining': 102}\n",
      "95017 --> {'name': 'Butter', 'price': 325, 'remaining': 90}\n",
      "95018 --> {'name': 'Sliced Cheese', 'price': 330, 'remaining': 59}\n",
      "95019 --> {'name': 'Shredded Cheese', 'price': 194, 'remaining': 92}\n",
      "95020 --> {'name': 'Milk', 'price': 125, 'remaining': 78}\n",
      "95021 --> {'name': 'Sour Cream', 'price': 324, 'remaining': 53}\n",
      "95022 --> {'name': 'Greek Yogurt', 'price': 312, 'remaining': 106}\n",
      "95023 --> {'name': 'Chicken stock/broth', 'price': 319, 'remaining': 45}\n",
      "95024 --> {'name': 'Salsa', 'price': 299, 'remaining': 65}\n",
      "95025 --> {'name': 'Diced Tomatoes', 'price': 129, 'remaining': 87}\n",
      "95026 --> {'name': 'Jam/Jelly', 'price': 262, 'remaining': 81}\n",
      "95027 --> {'name': 'Peanut Butter', 'price': 174, 'remaining': 87}\n",
      "95028 --> {'name': 'Pasta Sauce', 'price': 277, 'remaining': 122}\n",
      "95029 --> {'name': 'Black Beans', 'price': 180, 'remaining': 115}\n",
      "95030 --> {'name': 'Soups', 'price': 191, 'remaining': 47}\n",
      "95031 --> {'name': 'Tuna', 'price': 211, 'remaining': 136}\n",
      "95032 --> {'name': 'Green Chiles', 'price': 235, 'remaining': 94}\n",
      "95033 --> {'name': 'Berries', 'price': 248, 'remaining': 127}\n",
      "95034 --> {'name': 'Corn', 'price': 108, 'remaining': 123}\n",
      "95035 --> {'name': 'Broccoli', 'price': 337, 'remaining': 59}\n",
      "95036 --> {'name': 'Juice Concentrate', 'price': 242, 'remaining': 85}\n",
      "95037 --> {'name': 'Pizza', 'price': 288, 'remaining': 127}\n",
      "95038 --> {'name': 'Pie Crust', 'price': 308, 'remaining': 61}\n",
      "95039 --> {'name': 'Cookie Dough', 'price': 343, 'remaining': 77}\n",
      "95040 --> {'name': 'Baking powder', 'price': 213, 'remaining': 67}\n",
      "95041 --> {'name': 'Baking Soda', 'price': 150, 'remaining': 90}\n",
      "95042 --> {'name': 'Sugar', 'price': 118, 'remaining': 62}\n",
      "95043 --> {'name': 'Brown Sugar', 'price': 257, 'remaining': 116}\n",
      "95044 --> {'name': 'Flour', 'price': 191, 'remaining': 41}\n",
      "95045 --> {'name': 'Honey', 'price': 105, 'remaining': 46}\n",
      "95046 --> {'name': 'Vanilla', 'price': 308, 'remaining': 76}\n",
      "95047 --> {'name': 'Dry Yeast', 'price': 234, 'remaining': 53}\n",
      "95048 --> {'name': 'Chocolate Chips', 'price': 298, 'remaining': 130}\n",
      "95049 --> {'name': 'Cocoa Powder', 'price': 192, 'remaining': 122}\n",
      "95050 --> {'name': 'Powdered Sugar', 'price': 266, 'remaining': 44}\n"
     ]
    }
   ],
   "source": [
    "print(\"****************************************************\")\n",
    "print(\"here is your list of product \\nChoose from it\")\n",
    "print(\"****************************************************\")\n",
    "\n",
    "for k, v in product.items():\n",
    "     print (k, '-->', v)"
   ]
  },
  {
   "cell_type": "code",
   "execution_count": 29,
   "metadata": {},
   "outputs": [],
   "source": [
    "saleslist=[]\n"
   ]
  },
  {
   "cell_type": "code",
   "execution_count": 63,
   "metadata": {},
   "outputs": [
    {
     "name": "stdout",
     "output_type": "stream",
     "text": [
      "enter the no unique of products u want to purchase 2\n",
      "enter the product id you want to purrchase: 95001\n",
      "entr the quantity of this product u want to purcchase 9\n",
      "enter the product id you want to purrchase: 95050\n",
      "entr the quantity of this product u want to purcchase 3\n",
      "your total ammount will be--> 2661\n"
     ]
    }
   ],
   "source": [
    "custno=int(input (\"enter the no unique of products u want to purchase \"))\n",
    "custquant=0\n",
    "totalcost=0\n",
    "for i in range(custno):\n",
    "    custinput=input(\"enter the product id you want to purrchase: \")\n",
    "    x=str(custinput) in product.keys()\n",
    "    while x==False:\n",
    "        print(\"pls enter valid id \")\n",
    "        custinput=(input(\"enter the product id you want to purrchase: \"))\n",
    "        x=str(custinput) in product.keys()\n",
    "        if x:\n",
    "            break\n",
    "        \n",
    "    custquant=int(input(\"entr the quantity of this product u want to purcchase \"))\n",
    "    if(custquant>product[custinput]['remaining']):\n",
    "        print(\"we are sorry there is not enough of this \")\n",
    "    cost=product[custinput][\"price\"]*custquant\n",
    "    totalcost=totalcost+cost\n",
    "    product[str(custinput)][\"remaining\"]=product[str(custinput)][\"remaining\"]-custquant\n",
    "    \n",
    "print(\"your total ammount will be-->\",totalcost)\n",
    "\n",
    "   \n",
    "    \n",
    "\n",
    "    \n"
   ]
  },
  {
   "cell_type": "code",
   "execution_count": 64,
   "metadata": {},
   "outputs": [],
   "source": [
    "fd=open('product.json','w')\n",
    "updated=json.dumps(product)\n",
    "p=fd.write(updated)\n",
    "fd.close()"
   ]
  },
  {
   "cell_type": "code",
   "execution_count": 65,
   "metadata": {},
   "outputs": [
    {
     "name": "stdout",
     "output_type": "stream",
     "text": [
      "do you have a coupon code\n",
      " press Y if yes  y\n",
      "enter the coupoun codeapplyme\n",
      "billno --> 7896228\n",
      "Purchased Items --> 2\n",
      "Total ammount --> 2394.9\n",
      "Purchase time --> Mon Sep  6 21:10:54 2021\n"
     ]
    }
   ],
   "source": [
    "allbill={}\n",
    "totalearning=0\n",
    "bill={\"billno\":int((rd.random())*10000000),\"Purchased Items\":custno,\"Total ammount\":totalcost,\"Purchase time\":time.ctime()}\n",
    "discount=input(\"do you have a coupon code\\n press Y if yes  \")\n",
    "if(discount=='y' or discount=='Y'):\n",
    "    c=input(\"enter the coupoun code\")\n",
    "    if(c in discountcode):\n",
    "        bill[\"Total ammount\"]= bill[\"Total ammount\"]-(bill[\"Total ammount\"]*10/100)\n",
    "for k, v in bill.items():\n",
    "     print (k, '-->', v)\n",
    "\n",
    "allbill.update(bill)"
   ]
  },
  {
   "cell_type": "code",
   "execution_count": 66,
   "metadata": {},
   "outputs": [],
   "source": [
    "ff=open('bills.json','a')\n",
    "bills=json.dumps(allbill)\n",
    "ff.write(bills)\n",
    "ff.write(\"\\n\")\n",
    "ff.close()\n"
   ]
  },
  {
   "cell_type": "code",
   "execution_count": null,
   "metadata": {},
   "outputs": [],
   "source": []
  }
 ],
 "metadata": {
  "kernelspec": {
   "display_name": "Python 3",
   "language": "python",
   "name": "python3"
  },
  "language_info": {
   "codemirror_mode": {
    "name": "ipython",
    "version": 3
   },
   "file_extension": ".py",
   "mimetype": "text/x-python",
   "name": "python",
   "nbconvert_exporter": "python",
   "pygments_lexer": "ipython3",
   "version": "3.8.5"
  }
 },
 "nbformat": 4,
 "nbformat_minor": 4
}
